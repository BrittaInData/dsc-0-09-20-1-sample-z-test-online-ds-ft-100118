{
 "cells": [
  {
   "cell_type": "markdown",
   "metadata": {},
   "source": [
    "# One-sample z-test - Lab\n",
    "\n",
    "### Introduction\n",
    "In this lab we will go through quick tests to help you better understand the ideas around hypothesis testing.\n",
    "\n",
    "## Objectives\n",
    "You would be able to\n",
    "* Understand and explain use cases for a 1-sample z-test\n",
    "* Set up null and alternative hypotheses\n",
    "* Calculate z statistic using z-tables and cdf functions\n",
    "* Calculate and interpret p-value for significance of results."
   ]
  },
  {
   "cell_type": "markdown",
   "metadata": {},
   "source": [
    "## Exercise 1\n",
    "A rental car company claims the mean time to rent a car on their website is 60 seconds with a standard deviation of 30 seconds. A random sample of 36 customers attempted to rent a car on the website. The mean time to rent was 75 seconds. Is this enough evidence to contradict the company's claim? \n",
    "\n",
    "<img src=\"http://www.guptatravelsjabalpur.com/wp-content/uploads/2016/04/car-rentalservice.jpg\" width=400>\n",
    "\n",
    "Follow the 5 steps shown in previous lesson and use alpha = 0.05. "
   ]
  },
  {
   "cell_type": "code",
   "execution_count": 1,
   "metadata": {},
   "outputs": [],
   "source": [
    "# Step 1: State you null and alternative hypotheses\n",
    "\n",
    "# H1: Time to rent a car is actually greater than the promised 60 seconds.\n",
    "# --> H1: Sample mean is greater than population mean, i.e. μ < M\n",
    "# Ho: Time to rent a car is less than or equal to the promised 60 seconds.\n",
    "# --> Ho: Sample mean is less than or equal to population mean, i.e. μ >= M"
   ]
  },
  {
   "cell_type": "code",
   "execution_count": 2,
   "metadata": {},
   "outputs": [],
   "source": [
    "# Step 2: Specify a Significance Level\n",
    "\n",
    "# --> alpha = 0.05\n",
    "# --> Left-tail test"
   ]
  },
  {
   "cell_type": "code",
   "execution_count": 3,
   "metadata": {},
   "outputs": [
    {
     "name": "stdout",
     "output_type": "stream",
     "text": [
      "*** z-score:  3.0 ***\n"
     ]
    }
   ],
   "source": [
    "# Step 3: Calculate the test statistic\n",
    "\n",
    "import scipy.stats as stats\n",
    "from math import sqrt\n",
    "\n",
    "# sample statistics\n",
    "mean = 75\n",
    "n = 36\n",
    "\n",
    "# population parameters\n",
    "mu = 60\n",
    "sigma = 30\n",
    "\n",
    "# calculation of z-score\n",
    "z = (mean - mu) / (sigma/sqrt(n))\n",
    "print('*** z-score: ', z, '***')"
   ]
  },
  {
   "cell_type": "code",
   "execution_count": 4,
   "metadata": {},
   "outputs": [
    {
     "name": "stdout",
     "output_type": "stream",
     "text": [
      "*** p-value:  0.00135 ***\n"
     ]
    }
   ],
   "source": [
    "# Step 4: Calculate the p-Value\n",
    "\n",
    "p_value = 1 - stats.norm.cdf(z)\n",
    "print('*** p-value: ', round(p_value,5), '***')"
   ]
  },
  {
   "cell_type": "code",
   "execution_count": 5,
   "metadata": {},
   "outputs": [],
   "source": [
    "# Step 5: Interpret the p-value\n",
    "\n",
    "# --> The p-value 0.00135 is much smaller than our alpha 0.05, meaning we have significance evidence to reject the Ho.\n",
    "# --> We can say that time to rent a car is significantly higher than what the company claims."
   ]
  },
  {
   "cell_type": "markdown",
   "metadata": {},
   "source": [
    "## Exercise 2\n",
    "\n",
    "Twenty five students complete a preparation program for taking the SAT test.  Here are the SAT scores from the 25 students who completed  program:\n",
    "\n",
    "``\n",
    "434 694 457 534 720 400 484 478 610 641 425 636 454\n",
    "514 563 370 499 640 501 625 612 471 598 509 531\n",
    "``\n",
    "\n",
    "<img src=\"http://falearningsolutions.com/wp-content/uploads/2015/09/FAcogtrain71FBimage.jpg\" width=400>\n",
    "\n",
    "We know that the population average for SAT scores is 500 with a standard deviation of 100.\n",
    "\n",
    "The question is, are these students’ SAT scores significantly greater than a population mean? \n",
    "\n",
    "*Note that the the maker of the SAT prep program claims that it will increase (and not decrease) your SAT score.  So, you would be justified in conducting a one-directional test. (alpha = .05).*\n",
    "\n"
   ]
  },
  {
   "cell_type": "code",
   "execution_count": 6,
   "metadata": {},
   "outputs": [],
   "source": [
    "# Step 1: State you null and alternative hypotheses\n",
    "\n",
    "# H1: The SAT prep programs leads to an increase in SAT test scores.\n",
    "# --> H1: Sample mean of students is greater than population mean, i.e. μ < M\n",
    "# Ho: The SAT prep programs does not lead to an increase in SAT test scores.\n",
    "# --> Ho: Sample mean of students is less than or equal to population mean, i.e. μ >= M"
   ]
  },
  {
   "cell_type": "code",
   "execution_count": 7,
   "metadata": {},
   "outputs": [],
   "source": [
    "# Step 2: Specify a Significance Level\n",
    "\n",
    "# --> alpha = 0.05\n",
    "# --> Left-tail test"
   ]
  },
  {
   "cell_type": "code",
   "execution_count": 8,
   "metadata": {},
   "outputs": [
    {
     "name": "stdout",
     "output_type": "stream",
     "text": [
      "*** z-score:  1.8 ***\n"
     ]
    }
   ],
   "source": [
    "# Step 3: Calculate the test statistic\n",
    "\n",
    "import numpy as np\n",
    "\n",
    "# sample statistics\n",
    "sample = [434, 694, 457, 534, 720, 400, 484, 478, 610, 641, 425, 636, 454, 514, 563, 370, 499, 640, 501, 625, 612, 471, 598, 509, 531]\n",
    "mean_2 = np.mean(sample)\n",
    "n_2 = len(sample)\n",
    "\n",
    "# population parameters\n",
    "mu_2 = 500\n",
    "sigma_2 = 100\n",
    "\n",
    "# calculation of z-score\n",
    "z_2 = (mean_2 - mu_2) / (sigma_2/sqrt(n_2))\n",
    "print('*** z-score: ', z_2, '***')"
   ]
  },
  {
   "cell_type": "code",
   "execution_count": 9,
   "metadata": {},
   "outputs": [
    {
     "name": "stdout",
     "output_type": "stream",
     "text": [
      "*** p-value:  0.03593 ***\n"
     ]
    }
   ],
   "source": [
    "# Step 4: Calculate the p-Value\n",
    "\n",
    "p_value = 1 - stats.norm.cdf(z_2)\n",
    "print('*** p-value: ', round(p_value,5), '***')"
   ]
  },
  {
   "cell_type": "code",
   "execution_count": 10,
   "metadata": {},
   "outputs": [],
   "source": [
    "# Step 5: Interpret the p-value\n",
    "\n",
    "# --> The p-value 0.03593 is smaller than our alpha 0.05, meaning we have significance evidence to reject the Ho.\n",
    "# --> We can say, that the training has a SIGNIFICANT effect on the SAT outcome."
   ]
  },
  {
   "cell_type": "markdown",
   "metadata": {},
   "source": [
    "## Summary\n",
    "\n",
    "In this lesson, we conducted a couple of simple tests comparing sample and population means, in an attempt to reject our null hypotheses. This provides you with a strong foundation to move ahead with more advanced tests and approaches in statistics. "
   ]
  }
 ],
 "metadata": {
  "kernelspec": {
   "display_name": "Python 3",
   "language": "python",
   "name": "python3"
  },
  "language_info": {
   "codemirror_mode": {
    "name": "ipython",
    "version": 3
   },
   "file_extension": ".py",
   "mimetype": "text/x-python",
   "name": "python",
   "nbconvert_exporter": "python",
   "pygments_lexer": "ipython3",
   "version": "3.6.6"
  }
 },
 "nbformat": 4,
 "nbformat_minor": 2
}
